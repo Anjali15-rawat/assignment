{
 "cells": [
  {
   "cell_type": "code",
   "execution_count": 1,
   "id": "62f47172-6a7d-4e5c-b389-e477738085f9",
   "metadata": {},
   "outputs": [
    {
     "name": "stdin",
     "output_type": "stream",
     "text": [
      "Enter your first name:  Anjali \n",
      "Enter your last name:  Rawat\n"
     ]
    },
    {
     "name": "stdout",
     "output_type": "stream",
     "text": [
      "Reversed name: tawaR  ilajnA\n"
     ]
    }
   ],
   "source": [
    "# Take input for first and last name\n",
    "first_name = input(\"Enter your first name: \")\n",
    "last_name = input(\"Enter your last name: \")\n",
    "\n",
    "# Reverse the first and last name and join them with a space\n",
    "x = last_name[::-1] + \" \" + first_name[::-1]\n",
    "\n",
    "# The [::-1] is a string slicing method that reverses the string.\n",
    "# + \" \" is used to concatenate the reversed names with a space in between.\n",
    "\n",
    "# Print the reversed names\n",
    "print(\"Reversed name:\",x)"
   ]
  },
  {
   "cell_type": "code",
   "execution_count": 3,
   "id": "5de18d35-db13-42a2-a800-43e0a218a2f2",
   "metadata": {},
   "outputs": [
    {
     "name": "stdin",
     "output_type": "stream",
     "text": [
      "Enter a number:  4\n"
     ]
    },
    {
     "name": "stdout",
     "output_type": "stream",
     "text": [
      "Integer: 4\n",
      "Float: 4.0\n",
      "Complex: (4+0j)\n"
     ]
    }
   ],
   "source": [
    "# Take a number as input from the user\n",
    "num = input(\"Enter a number: \")\n",
    "\n",
    "# Convert the input to an integer\n",
    "int_num = int(num)\n",
    "\n",
    "# Convert the input to a float\n",
    "float_num = float(num)\n",
    "\n",
    "# Convert the input to a complex number\n",
    "complex_num = complex(num)\n",
    "\n",
    "# Print the converted values\n",
    "print(\"Integer:\", int_num)\n",
    "print(\"Float:\", float_num)\n",
    "print(\"Complex:\", complex_num)\n",
    "\n",
    "# Explanation:\n",
    "# - Integer (int): This data type represents whole numbers without any decimal or fractional part.\n",
    "# - Float (float): This data type represents real numbers with a fractional part, indicated by a decimal point.\n",
    "# - Complex (complex): This data type represents complex numbers, which have a real part and an imaginary part. \n",
    "#   For example, '5' will be converted to (5+0j) where 'j' is the imaginary unit."
   ]
  },
  {
   "cell_type": "code",
   "execution_count": 4,
   "id": "92f08af6-f6a0-4b3b-8f17-c1986c4667ce",
   "metadata": {},
   "outputs": [
    {
     "name": "stdin",
     "output_type": "stream",
     "text": [
      "Enter the length of the rectangle:  12\n",
      "Enter the width of the rectangle:  10\n"
     ]
    },
    {
     "name": "stdout",
     "output_type": "stream",
     "text": [
      "The area of the rectangle is: 120.0\n"
     ]
    }
   ],
   "source": [
    "# Prompt the user to enter the length and width of the rectangle\n",
    "length = float(input(\"Enter the length of the rectangle: \"))\n",
    "width = float(input(\"Enter the width of the rectangle: \"))\n",
    "\n",
    "# Calculate the area of the rectangle\n",
    "area = length * width\n",
    "\n",
    "# Display the result using the print function\n",
    "print(\"The area of the rectangle is:\",area)"
   ]
  },
  {
   "cell_type": "code",
   "execution_count": 5,
   "id": "ba5115b2-0e04-4a41-9e04-f6e678c6d908",
   "metadata": {},
   "outputs": [
    {
     "name": "stdin",
     "output_type": "stream",
     "text": [
      "Enter the length of the rectangle:  14\n",
      "Enter the width of the rectangle:  12\n"
     ]
    },
    {
     "name": "stdout",
     "output_type": "stream",
     "text": [
      "The area of the rectangle is: 168.00\n"
     ]
    }
   ],
   "source": [
    "#Prompt the user to enter the length and width of the rectangle\n",
    "length = float(input(\"Enter the length of the rectangle: \"))\n",
    "width = float(input(\"Enter the width of the rectangle: \"))\n",
    "\n",
    "# Calculate the area of the rectangle\n",
    "area = length * width\n",
    "\n",
    "# Display the result using the format method to show two decimal places\n",
    "print(\"The area of the rectangle is: {:.2f}\".format(area))"
   ]
  },
  {
   "cell_type": "code",
   "execution_count": 6,
   "id": "81b949f1-3770-46cd-adae-bf570f690430",
   "metadata": {},
   "outputs": [
    {
     "name": "stdin",
     "output_type": "stream",
     "text": [
      "Enter the first number:  6\n",
      "Enter the second number:  7\n",
      "Enter the third number:  4\n"
     ]
    },
    {
     "name": "stdout",
     "output_type": "stream",
     "text": [
      "The average of the three numbers is: 5.67\n"
     ]
    }
   ],
   "source": [
    "# Prompt the user to enter three numbers\n",
    "num1 = float(input(\"Enter the first number: \"))\n",
    "num2 = float(input(\"Enter the second number: \"))\n",
    "num3 = float(input(\"Enter the third number: \"))\n",
    "\n",
    "# Calculate the average of the three numbers\n",
    "average = (num1 + num2 + num3) / 3\n",
    "\n",
    "# Display the average using the % method for string formatting\n",
    "print(\"The average of the three numbers is: %.2f\"%average)"
   ]
  },
  {
   "cell_type": "code",
   "execution_count": 7,
   "id": "471fb27d-403d-475c-b462-3dd632d86b18",
   "metadata": {},
   "outputs": [
    {
     "name": "stdin",
     "output_type": "stream",
     "text": [
      "Enter a number (or type 'exit' to quit):  12\n"
     ]
    },
    {
     "name": "stdout",
     "output_type": "stream",
     "text": [
      "The number is positive.\n"
     ]
    },
    {
     "name": "stdin",
     "output_type": "stream",
     "text": [
      "Enter a number (or type 'exit' to quit):  _12\n"
     ]
    },
    {
     "name": "stdout",
     "output_type": "stream",
     "text": [
      "Invalid input, please enter a valid number.\n"
     ]
    },
    {
     "name": "stdin",
     "output_type": "stream",
     "text": [
      "Enter a number (or type 'exit' to quit):  -6\n"
     ]
    },
    {
     "name": "stdout",
     "output_type": "stream",
     "text": [
      "The number is negative.\n"
     ]
    },
    {
     "name": "stdin",
     "output_type": "stream",
     "text": [
      "Enter a number (or type 'exit' to quit):  exit\n"
     ]
    }
   ],
   "source": [
    "###### while True:\n",
    "    user_input = input(\"Enter a number (or type 'exit' to quit): \")\n",
    "    \n",
    "    # Check if the user wants to exit\n",
    "    if user_input.lower() == 'exit':\n",
    "        break\n",
    "    \n",
    "    try:\n",
    "        # Convert the input to a number\n",
    "        number = float(user_input)\n",
    "        \n",
    "        # Determine if the number is positive, negative, or zero\n",
    "        if number > 0:\n",
    "            print(\"The number is positive.\")\n",
    "        elif number < 0:\n",
    "            print(\"The number is negative.\")\n",
    "        else:\n",
    "            print(\"The number is zero.\")\n",
    "    \n",
    "    except ValueError:\n",
    "        # If the input is not a valid number, continue to the next iteration\n",
    "        print(\"Invalid input, please enter a valid number.\")\n",
    "        continue"
   ]
  },
  {
   "cell_type": "code",
   "execution_count": 8,
   "id": "44157588-17c0-47d2-839b-33f4e0e4229a",
   "metadata": {},
   "outputs": [
    {
     "name": "stdin",
     "output_type": "stream",
     "text": [
      "Enter the first number:  32\n",
      "Enter the second number:  24\n"
     ]
    },
    {
     "name": "stdout",
     "output_type": "stream",
     "text": [
      "Both numbers are even.\n"
     ]
    }
   ],
   "source": [
    "num1 = int(input(\"Enter the first number: \"))\n",
    "num2 = int(input(\"Enter the second number: \"))\n",
    "if num1 % 2 == 0 and num2 % 2 == 0:\n",
    "    print(\"Both numbers are even.\")\n",
    "elif num1 % 2 != 0 and num2 % 2 != 0:\n",
    "    print(\"Both numbers are odd.\")\n",
    "else:\n",
    "    print(\"One number is even and the other is odd.\")"
   ]
  },
  {
   "cell_type": "code",
   "execution_count": 9,
   "id": "b0e0fc0b-2ebd-4421-ae4d-a6d0572c5a8f",
   "metadata": {},
   "outputs": [
    {
     "name": "stdin",
     "output_type": "stream",
     "text": [
      "Enter an integer:  67\n"
     ]
    },
    {
     "name": "stdout",
     "output_type": "stream",
     "text": [
      "Binary: 0b1000011\n",
      "Octal: 0o103\n",
      "Hexadecimal: 0x43\n",
      "Binary: 0b1000011\n",
      "Octal: 0o103\n",
      "Hexadecimal: 0x43\n"
     ]
    }
   ],
   "source": [
    "num = int(input(\"Enter an integer: \"))\n",
    "\n",
    "# Print the binary, octal, and hexadecimal equivalents\n",
    "print(\"Binary:\", bin(num))\n",
    "print(\"Octal:\", oct(num))\n",
    "print(\"Hexadecimal:\", hex(num))\n",
    "\n",
    "# Alternatively, using a for loop to demonstrate iterating over the formats\n",
    "formats = ['Binary', 'Octal', 'Hexadecimal']\n",
    "for fmt in formats:\n",
    "    if fmt == 'Binary':\n",
    "        print(f\"{fmt}: {bin(num)}\")\n",
    "    elif fmt == 'Octal':\n",
    "        print(f\"{fmt}: {oct(num)}\")\n",
    "    elif fmt == 'Hexadecimal':\n",
    "        print(f\"{fmt}: {hex(num)}\")"
   ]
  },
  {
   "cell_type": "code",
   "execution_count": null,
   "id": "fad8ea70-99f0-4172-b38a-c6806dd3363a",
   "metadata": {},
   "outputs": [],
   "source": []
  }
 ],
 "metadata": {
  "kernelspec": {
   "display_name": "Python 3 (ipykernel)",
   "language": "python",
   "name": "python3"
  },
  "language_info": {
   "codemirror_mode": {
    "name": "ipython",
    "version": 3
   },
   "file_extension": ".py",
   "mimetype": "text/x-python",
   "name": "python",
   "nbconvert_exporter": "python",
   "pygments_lexer": "ipython3",
   "version": "3.12.4"
  }
 },
 "nbformat": 4,
 "nbformat_minor": 5
}
